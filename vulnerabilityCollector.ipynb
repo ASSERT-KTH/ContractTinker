{
 "cells": [
  {
   "cell_type": "markdown",
   "id": "f48fb572-6f8b-401b-91e9-9864c30c6bfc",
   "metadata": {},
   "source": [
    "### Notebot to study the vulnerabilities on LLMYSMAPR"
   ]
  },
  {
   "cell_type": "code",
   "execution_count": 49,
   "id": "5a99c6b9-d2ab-42e1-b927-6cc9623ee833",
   "metadata": {},
   "outputs": [],
   "source": [
    "import json\n",
    "import os\n",
    "\n",
    "def collect_vulnerability_types(json_file_path, category='all'):\n",
    "    try:\n",
    "        # Load the JSON file\n",
    "        with open(json_file_path, 'r') as f:\n",
    "            data = json.load(f)\n",
    "\n",
    "        # Initialize a list to store all vulnerability types\n",
    "        vulnerabilities = []\n",
    "        \n",
    "        if category == \"HighRiskFindings\":\n",
    "            vulnerabilities = list(data.get(\"HighRiskFindings\", {}).keys())\n",
    "        elif category == \"MediumRiskFindings\":\n",
    "            vulnerabilities = list(data.get(\"MediumRiskFindings\", {}).keys())\n",
    "\n",
    "        else: \n",
    "            # Loop through all the keys in the JSON\n",
    "            for category, findings in data.items():\n",
    "                # Ensure the value is a dictionary (like \"HighRiskFindings\" etc.)\n",
    "                if isinstance(findings, dict):\n",
    "                    # Add the keys (vulnerability types) from each category to the list\n",
    "                    vulnerabilities.extend(findings.keys())\n",
    "\n",
    "        return vulnerabilities\n",
    "\n",
    "    except (FileNotFoundError, json.JSONDecodeError) as e:\n",
    "        print(f\"Error reading JSON file: {e}\")\n",
    "        return []\n",
    "\n",
    "# Example usage\n",
    "#json_file_path = 'open_source_dataset/10/vulnerabilityDetails.json'\n",
    "#vulnerabilities = collect_vulnerability_types(json_file_path)\n",
    "#print(vulnerabilities)\n"
   ]
  },
  {
   "cell_type": "code",
   "execution_count": 50,
   "id": "fe49d805-0f5f-43c6-90d3-ecb885c5bc8b",
   "metadata": {},
   "outputs": [],
   "source": [
    "def get_all_vulnerabilities(main_folder, category=\"all\"):\n",
    "    vulnerabilities = []\n",
    "\n",
    "    # Walk through the directory\n",
    "    for root, dirs, files in os.walk(main_folder):\n",
    "        for file in files:\n",
    "            if file == 'vulnerabilityDetails.json':\n",
    "                print(\"collecting from (%s)\", os.path.join(root, file))\n",
    "                # Get the full path to the file and add it to the list\n",
    "                vulnerabilities += collect_vulnerability_types(os.path.join(root, file), category)\n",
    "                #vulnerabilities .append( collect_vulnerability_types(os.path.join(root, file)))\n",
    "    \n",
    "\n",
    "    return vulnerabilities\n",
    "\n"
   ]
  },
  {
   "cell_type": "code",
   "execution_count": 51,
   "id": "454fec52-e940-49a6-b79e-125d26cf81f9",
   "metadata": {},
   "outputs": [
    {
     "name": "stdout",
     "output_type": "stream",
     "text": [
      "collecting from (%s) open_source_dataset/13/vulnerabilityDetails.json\n",
      "collecting from (%s) open_source_dataset/12/vulnerabilityDetails.json\n",
      "collecting from (%s) open_source_dataset/5/vulnerabilityDetails.json\n",
      "collecting from (%s) open_source_dataset/7/vulnerabilityDetails.json\n",
      "collecting from (%s) open_source_dataset/18/vulnerabilityDetails.json\n",
      "collecting from (%s) open_source_dataset/8/vulnerabilityDetails.json\n",
      "collecting from (%s) open_source_dataset/20/vulnerabilityDetails.json\n",
      "collecting from (%s) open_source_dataset/19/vulnerabilityDetails.json\n",
      "collecting from (%s) open_source_dataset/29/vulnerabilityDetails.json\n",
      "collecting from (%s) open_source_dataset/17/vulnerabilityDetails.json\n",
      "collecting from (%s) open_source_dataset/6/vulnerabilityDetails.json\n",
      "collecting from (%s) open_source_dataset/23/vulnerabilityDetails.json\n",
      "collecting from (%s) open_source_dataset/3/vulnerabilityDetails.json\n",
      "collecting from (%s) open_source_dataset/26/vulnerabilityDetails.json\n",
      "collecting from (%s) open_source_dataset/10/vulnerabilityDetails.json\n",
      "collecting from (%s) open_source_dataset/16/vulnerabilityDetails.json\n",
      "collecting from (%s) open_source_dataset/30/vulnerabilityDetails.json\n",
      "collecting from (%s) open_source_dataset/14/vulnerabilityDetails.json\n",
      "collecting from (%s) open_source_dataset/42/vulnerabilityDetails.json\n",
      "308\n"
     ]
    }
   ],
   "source": [
    "all_vul = get_all_vulnerabilities(\"open_source_dataset\")\n",
    "print(len(all_vul))"
   ]
  },
  {
   "cell_type": "code",
   "execution_count": 52,
   "id": "476749dc-24cf-42dc-947b-a0f611c78fa0",
   "metadata": {},
   "outputs": [
    {
     "name": "stdout",
     "output_type": "stream",
     "text": [
      "collecting from (%s) open_source_dataset/13/vulnerabilityDetails.json\n",
      "collecting from (%s) open_source_dataset/12/vulnerabilityDetails.json\n",
      "collecting from (%s) open_source_dataset/5/vulnerabilityDetails.json\n",
      "collecting from (%s) open_source_dataset/7/vulnerabilityDetails.json\n",
      "collecting from (%s) open_source_dataset/18/vulnerabilityDetails.json\n",
      "collecting from (%s) open_source_dataset/8/vulnerabilityDetails.json\n",
      "collecting from (%s) open_source_dataset/20/vulnerabilityDetails.json\n",
      "collecting from (%s) open_source_dataset/19/vulnerabilityDetails.json\n",
      "collecting from (%s) open_source_dataset/29/vulnerabilityDetails.json\n",
      "collecting from (%s) open_source_dataset/17/vulnerabilityDetails.json\n",
      "collecting from (%s) open_source_dataset/6/vulnerabilityDetails.json\n",
      "collecting from (%s) open_source_dataset/23/vulnerabilityDetails.json\n",
      "collecting from (%s) open_source_dataset/3/vulnerabilityDetails.json\n",
      "collecting from (%s) open_source_dataset/26/vulnerabilityDetails.json\n",
      "collecting from (%s) open_source_dataset/10/vulnerabilityDetails.json\n",
      "collecting from (%s) open_source_dataset/16/vulnerabilityDetails.json\n",
      "collecting from (%s) open_source_dataset/30/vulnerabilityDetails.json\n",
      "collecting from (%s) open_source_dataset/14/vulnerabilityDetails.json\n",
      "collecting from (%s) open_source_dataset/42/vulnerabilityDetails.json\n",
      "145\n"
     ]
    }
   ],
   "source": [
    "high_risk_vul = get_all_vulnerabilities(\"open_source_dataset\",\"HighRiskFindings\" )\n",
    "print(len(high_risk_vul))"
   ]
  },
  {
   "cell_type": "code",
   "execution_count": 53,
   "id": "30e63c6e-c420-4980-b968-2fbc3e0a39f9",
   "metadata": {},
   "outputs": [
    {
     "name": "stdout",
     "output_type": "stream",
     "text": [
      "collecting from (%s) open_source_dataset/13/vulnerabilityDetails.json\n",
      "collecting from (%s) open_source_dataset/12/vulnerabilityDetails.json\n",
      "collecting from (%s) open_source_dataset/5/vulnerabilityDetails.json\n",
      "collecting from (%s) open_source_dataset/7/vulnerabilityDetails.json\n",
      "collecting from (%s) open_source_dataset/18/vulnerabilityDetails.json\n",
      "collecting from (%s) open_source_dataset/8/vulnerabilityDetails.json\n",
      "collecting from (%s) open_source_dataset/20/vulnerabilityDetails.json\n",
      "collecting from (%s) open_source_dataset/19/vulnerabilityDetails.json\n",
      "collecting from (%s) open_source_dataset/29/vulnerabilityDetails.json\n",
      "collecting from (%s) open_source_dataset/17/vulnerabilityDetails.json\n",
      "collecting from (%s) open_source_dataset/6/vulnerabilityDetails.json\n",
      "collecting from (%s) open_source_dataset/23/vulnerabilityDetails.json\n",
      "collecting from (%s) open_source_dataset/3/vulnerabilityDetails.json\n",
      "collecting from (%s) open_source_dataset/26/vulnerabilityDetails.json\n",
      "collecting from (%s) open_source_dataset/10/vulnerabilityDetails.json\n",
      "collecting from (%s) open_source_dataset/16/vulnerabilityDetails.json\n",
      "collecting from (%s) open_source_dataset/30/vulnerabilityDetails.json\n",
      "collecting from (%s) open_source_dataset/14/vulnerabilityDetails.json\n",
      "collecting from (%s) open_source_dataset/42/vulnerabilityDetails.json\n",
      "163\n"
     ]
    }
   ],
   "source": [
    "medium_risk_vul = get_all_vulnerabilities(\"open_source_dataset\",\"MediumRiskFindings\" )\n",
    "print(len(medium_risk_vul))"
   ]
  },
  {
   "cell_type": "code",
   "execution_count": 54,
   "id": "8d9c8e31-9c1d-43ce-bc01-23c70459b274",
   "metadata": {},
   "outputs": [
    {
     "name": "stdout",
     "output_type": "stream",
     "text": [
      "File paths saved to all_vulnerabilities.csv\n",
      "File paths saved to high_risk_vul_vulnerabilities.csv\n",
      "File paths saved to medium_risk_vul_vulnerabilities.csv\n"
     ]
    }
   ],
   "source": [
    "import csv\n",
    " \n",
    "def save_to_csv(file_list, output_csv):\n",
    "    try:\n",
    "        with open(output_csv, mode='w', newline='') as csvfile:\n",
    "            writer = csv.writer(csvfile)\n",
    "            # Write header\n",
    "            writer.writerow(['File Path'])\n",
    "            # Write file paths\n",
    "            for file in file_list:\n",
    "                writer.writerow([file])\n",
    "        print(f\"File paths saved to {output_csv}\")\n",
    "    except Exception as e:\n",
    "        print(f\"Error saving to CSV: {e}\")\n",
    "\n",
    "save_to_csv(all_vul, \"all_vulnerabilities.csv\")\n",
    "save_to_csv(high_risk_vul, \"high_risk_vul_vulnerabilities.csv\")\n",
    "save_to_csv(medium_risk_vul, \"medium_risk_vul_vulnerabilities.csv\")\n"
   ]
  },
  {
   "cell_type": "code",
   "execution_count": 2,
   "id": "d124db72-7423-412c-95c2-5c723d376c55",
   "metadata": {},
   "outputs": [
    {
     "name": "stdout",
     "output_type": "stream",
     "text": [
      "You're running the script in: /home/sofia/Desktop/experiments/LLM4SMAPR\n"
     ]
    }
   ],
   "source": [
    "import os\n",
    "\n",
    "def get_current_folder():\n",
    "    try:\n",
    "        # Get the current working directory\n",
    "        current_folder = os.getcwd()\n",
    "        return current_folder\n",
    "    except FileNotFoundError as e:\n",
    "        print(f\"Error getting current folder: {e}\")\n",
    "        return None\n",
    "\n",
    "# Example usage\n",
    "current_folder = get_current_folder()\n",
    "if current_folder:\n",
    "    print(f\"You're running the script in: {current_folder}\")\n",
    "else:\n",
    "    print(\"Could not determine the current folder.\")\n"
   ]
  },
  {
   "cell_type": "code",
   "execution_count": 4,
   "id": "bb7e1e52-6865-466a-b1cd-dd50150873cb",
   "metadata": {},
   "outputs": [
    {
     "data": {
      "text/plain": [
       "['Repair_workflow.jpg',\n",
       " 'vulnerabilityCollector.ipynb',\n",
       " 'ContractTinker',\n",
       " '.ipynb_checkpoints',\n",
       " 'open_source_dataset',\n",
       " '.git',\n",
       " 'README.md']"
      ]
     },
     "execution_count": 4,
     "metadata": {},
     "output_type": "execute_result"
    }
   ],
   "source": [
    "os.listdir()"
   ]
  }
 ],
 "metadata": {
  "kernelspec": {
   "display_name": "Python 3 (ipykernel)",
   "language": "python",
   "name": "python3"
  },
  "language_info": {
   "codemirror_mode": {
    "name": "ipython",
    "version": 3
   },
   "file_extension": ".py",
   "mimetype": "text/x-python",
   "name": "python",
   "nbconvert_exporter": "python",
   "pygments_lexer": "ipython3",
   "version": "3.10.12"
  }
 },
 "nbformat": 4,
 "nbformat_minor": 5
}
